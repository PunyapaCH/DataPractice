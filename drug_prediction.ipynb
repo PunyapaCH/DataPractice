{
  "nbformat": 4,
  "nbformat_minor": 0,
  "metadata": {
    "colab": {
      "provenance": [],
      "authorship_tag": "ABX9TyODBJhDRE0QO5RAXQvlTVoO",
      "include_colab_link": true
    },
    "kernelspec": {
      "name": "python3",
      "display_name": "Python 3"
    },
    "language_info": {
      "name": "python"
    }
  },
  "cells": [
    {
      "cell_type": "markdown",
      "metadata": {
        "id": "view-in-github",
        "colab_type": "text"
      },
      "source": [
        "<a href=\"https://colab.research.google.com/github/PunyapaCH/intern/blob/main/drug_prediction.ipynb\" target=\"_parent\"><img src=\"https://colab.research.google.com/assets/colab-badge.svg\" alt=\"Open In Colab\"/></a>"
      ]
    },
    {
      "cell_type": "markdown",
      "source": [
        "# Drug Prediction Using Dicision Tree Model"
      ],
      "metadata": {
        "id": "k1CzA2hwIdM9"
      }
    },
    {
      "cell_type": "markdown",
      "source": [
        "by Punyapa Charoensuk"
      ],
      "metadata": {
        "id": "M2G8b3WCJ0tv"
      }
    },
    {
      "cell_type": "markdown",
      "source": [
        "---"
      ],
      "metadata": {
        "id": "cM2DmqM0InSl"
      }
    },
    {
      "cell_type": "markdown",
      "source": [
        "#  Exploration Data and Import Libraries"
      ],
      "metadata": {
        "id": "8TbKgr0on56U"
      }
    },
    {
      "cell_type": "code",
      "execution_count": 1,
      "metadata": {
        "id": "B6oBpdW4krho"
      },
      "outputs": [],
      "source": [
        "import numpy as np\n",
        "import matplotlib.pyplot as plt\n",
        "import pandas as pd"
      ]
    },
    {
      "cell_type": "code",
      "source": [
        "drug_train = pd.read_excel('drug.xlsx', sheet_name='Drug_Train')\n",
        "drug_test = pd.read_excel('drug.xlsx', sheet_name='Drug_Test')\n",
        "unseen = pd.read_excel('drug.xlsx', sheet_name='Drug_Unseen')\n",
        "drug_train.dtypes"
      ],
      "metadata": {
        "colab": {
          "base_uri": "https://localhost:8080/",
          "height": 334
        },
        "id": "6uTJ64rpltlF",
        "outputId": "1634dbb3-9a60-4eee-e493-5c29f610cd04"
      },
      "execution_count": 2,
      "outputs": [
        {
          "output_type": "execute_result",
          "data": {
            "text/plain": [
              "ID          int64\n",
              "AGE         int64\n",
              "SEX        object\n",
              "BP         object\n",
              "CHOLES     object\n",
              "NA        float64\n",
              "K         float64\n",
              "DRUG       object\n",
              "dtype: object"
            ],
            "text/html": [
              "<div>\n",
              "<style scoped>\n",
              "    .dataframe tbody tr th:only-of-type {\n",
              "        vertical-align: middle;\n",
              "    }\n",
              "\n",
              "    .dataframe tbody tr th {\n",
              "        vertical-align: top;\n",
              "    }\n",
              "\n",
              "    .dataframe thead th {\n",
              "        text-align: right;\n",
              "    }\n",
              "</style>\n",
              "<table border=\"1\" class=\"dataframe\">\n",
              "  <thead>\n",
              "    <tr style=\"text-align: right;\">\n",
              "      <th></th>\n",
              "      <th>0</th>\n",
              "    </tr>\n",
              "  </thead>\n",
              "  <tbody>\n",
              "    <tr>\n",
              "      <th>ID</th>\n",
              "      <td>int64</td>\n",
              "    </tr>\n",
              "    <tr>\n",
              "      <th>AGE</th>\n",
              "      <td>int64</td>\n",
              "    </tr>\n",
              "    <tr>\n",
              "      <th>SEX</th>\n",
              "      <td>object</td>\n",
              "    </tr>\n",
              "    <tr>\n",
              "      <th>BP</th>\n",
              "      <td>object</td>\n",
              "    </tr>\n",
              "    <tr>\n",
              "      <th>CHOLES</th>\n",
              "      <td>object</td>\n",
              "    </tr>\n",
              "    <tr>\n",
              "      <th>NA</th>\n",
              "      <td>float64</td>\n",
              "    </tr>\n",
              "    <tr>\n",
              "      <th>K</th>\n",
              "      <td>float64</td>\n",
              "    </tr>\n",
              "    <tr>\n",
              "      <th>DRUG</th>\n",
              "      <td>object</td>\n",
              "    </tr>\n",
              "  </tbody>\n",
              "</table>\n",
              "</div><br><label><b>dtype:</b> object</label>"
            ]
          },
          "metadata": {},
          "execution_count": 2
        }
      ]
    },
    {
      "cell_type": "code",
      "source": [
        "drug_train['AGE'] = drug_train['AGE'].astype(object)\n",
        "drug_test['AGE'] = drug_test['AGE'].astype(object)\n",
        "unseen['AGE'] = unseen['AGE'].astype(object)"
      ],
      "metadata": {
        "id": "XqoqocO22WYH"
      },
      "execution_count": 3,
      "outputs": []
    },
    {
      "cell_type": "code",
      "source": [
        "drug_train.dtypes"
      ],
      "metadata": {
        "colab": {
          "base_uri": "https://localhost:8080/",
          "height": 334
        },
        "id": "OPNrXTeB2v5m",
        "outputId": "82e23483-f545-4815-efcf-3006a71e4792"
      },
      "execution_count": 4,
      "outputs": [
        {
          "output_type": "execute_result",
          "data": {
            "text/plain": [
              "ID          int64\n",
              "AGE        object\n",
              "SEX        object\n",
              "BP         object\n",
              "CHOLES     object\n",
              "NA        float64\n",
              "K         float64\n",
              "DRUG       object\n",
              "dtype: object"
            ],
            "text/html": [
              "<div>\n",
              "<style scoped>\n",
              "    .dataframe tbody tr th:only-of-type {\n",
              "        vertical-align: middle;\n",
              "    }\n",
              "\n",
              "    .dataframe tbody tr th {\n",
              "        vertical-align: top;\n",
              "    }\n",
              "\n",
              "    .dataframe thead th {\n",
              "        text-align: right;\n",
              "    }\n",
              "</style>\n",
              "<table border=\"1\" class=\"dataframe\">\n",
              "  <thead>\n",
              "    <tr style=\"text-align: right;\">\n",
              "      <th></th>\n",
              "      <th>0</th>\n",
              "    </tr>\n",
              "  </thead>\n",
              "  <tbody>\n",
              "    <tr>\n",
              "      <th>ID</th>\n",
              "      <td>int64</td>\n",
              "    </tr>\n",
              "    <tr>\n",
              "      <th>AGE</th>\n",
              "      <td>object</td>\n",
              "    </tr>\n",
              "    <tr>\n",
              "      <th>SEX</th>\n",
              "      <td>object</td>\n",
              "    </tr>\n",
              "    <tr>\n",
              "      <th>BP</th>\n",
              "      <td>object</td>\n",
              "    </tr>\n",
              "    <tr>\n",
              "      <th>CHOLES</th>\n",
              "      <td>object</td>\n",
              "    </tr>\n",
              "    <tr>\n",
              "      <th>NA</th>\n",
              "      <td>float64</td>\n",
              "    </tr>\n",
              "    <tr>\n",
              "      <th>K</th>\n",
              "      <td>float64</td>\n",
              "    </tr>\n",
              "    <tr>\n",
              "      <th>DRUG</th>\n",
              "      <td>object</td>\n",
              "    </tr>\n",
              "  </tbody>\n",
              "</table>\n",
              "</div><br><label><b>dtype:</b> object</label>"
            ]
          },
          "metadata": {},
          "execution_count": 4
        }
      ]
    },
    {
      "cell_type": "code",
      "source": [
        "drug_train.drop('ID', axis=1, inplace=True)\n",
        "drug_test.drop('ID', axis=1, inplace=True)\n",
        "unseen.drop('ID', axis=1, inplace=True)"
      ],
      "metadata": {
        "id": "MoZmQcsowEMx"
      },
      "execution_count": 5,
      "outputs": []
    },
    {
      "cell_type": "code",
      "source": [
        "## function ที่มีไว้ print head() ของแต่ละ df พร้อม ๆ กัน\n",
        "\n",
        "def PrintHead():\n",
        "  print(\"Drug_Train\\n\")\n",
        "  print(drug_train.head())\n",
        "\n",
        "  print(\"\\nDrug_Test\\n\")\n",
        "  print(drug_test.head())\n",
        "\n",
        "  print(\"\\nDrug_Unseen\\n\")\n",
        "  print(unseen.head())"
      ],
      "metadata": {
        "id": "S-2bVSyUv9aA"
      },
      "execution_count": 6,
      "outputs": []
    },
    {
      "cell_type": "code",
      "source": [
        "PrintHead()"
      ],
      "metadata": {
        "colab": {
          "base_uri": "https://localhost:8080/"
        },
        "id": "lJDTHDxAyfDu",
        "outputId": "e9451152-6688-485a-a654-cb57747d6630"
      },
      "execution_count": 7,
      "outputs": [
        {
          "output_type": "stream",
          "name": "stdout",
          "text": [
            "Drug_Train\n",
            "\n",
            "  AGE SEX      BP CHOLES        NA         K   DRUG\n",
            "0  23   F    HIGH   HIGH  0.792535  0.031258  drugY\n",
            "1  47   M     LOW   HIGH  0.739309  0.056468  drugC\n",
            "2  47   M     LOW   HIGH  0.697269  0.068944  drugC\n",
            "3  28   F  NORMAL   HIGH  0.563682  0.072289  drugX\n",
            "4  61   F     LOW   HIGH  0.559294  0.030998  drugY\n",
            "\n",
            "Drug_Test\n",
            "\n",
            "  AGE SEX      BP  CHOLES        NA         K   DRUG\n",
            "0  57   M     LOW  NORMAL  0.536746  0.028061  drugY\n",
            "1  49   F  NORMAL  NORMAL  0.694689  0.074055  drugX\n",
            "2  74   M    HIGH    HIGH  0.715337  0.074773  drugB\n",
            "3  49   M     LOW  NORMAL  0.625889  0.056828  drugX\n",
            "4  65   F    HIGH  NORMAL  0.828898  0.026004  drugY\n",
            "\n",
            "Drug_Unseen\n",
            "\n",
            "  AGE SEX      BP  CHOLES        NA         K  DRUG\n",
            "0  57   M     LOW  NORMAL  0.536746  0.028061   NaN\n",
            "1  49   F  NORMAL  NORMAL  0.694689  0.074055   NaN\n",
            "2  74   M    HIGH    HIGH  0.715337  0.074773   NaN\n",
            "3  49   M     LOW  NORMAL  0.625889  0.056828   NaN\n",
            "4  65   F    HIGH  NORMAL  0.828898  0.026004   NaN\n"
          ]
        }
      ]
    },
    {
      "cell_type": "markdown",
      "source": [
        "## number of classes"
      ],
      "metadata": {
        "id": "inJkP8xd1Xkg"
      }
    },
    {
      "cell_type": "code",
      "source": [
        "print(drug_train[\"DRUG\"].unique().tolist())\n",
        "print(f'number of classes to be classified = {len(drug_train[\"DRUG\"].unique())}')"
      ],
      "metadata": {
        "colab": {
          "base_uri": "https://localhost:8080/"
        },
        "id": "xivTdcjsme4H",
        "outputId": "b00f81cb-abf4-4ba6-b1fe-3f8cbb2c5f7d"
      },
      "execution_count": 8,
      "outputs": [
        {
          "output_type": "stream",
          "name": "stdout",
          "text": [
            "['drugY', 'drugC', 'drugX', 'drugA', 'drugB']\n",
            "number of classes to be classified = 5\n"
          ]
        }
      ]
    },
    {
      "cell_type": "markdown",
      "source": [
        "## proportions"
      ],
      "metadata": {
        "id": "BtRG1sLl1cMu"
      }
    },
    {
      "cell_type": "code",
      "source": [
        "class_proportions = drug_train['DRUG'].value_counts(normalize=True) * 100\n",
        "class_proportions"
      ],
      "metadata": {
        "colab": {
          "base_uri": "https://localhost:8080/",
          "height": 272
        },
        "id": "bFx2iL-xoH3H",
        "outputId": "59eaa639-28af-4007-d91b-27769934888e"
      },
      "execution_count": 9,
      "outputs": [
        {
          "output_type": "execute_result",
          "data": {
            "text/plain": [
              "DRUG\n",
              "drugY    45.5\n",
              "drugX    27.0\n",
              "drugA    11.5\n",
              "drugC     8.0\n",
              "drugB     8.0\n",
              "Name: proportion, dtype: float64"
            ],
            "text/html": [
              "<div>\n",
              "<style scoped>\n",
              "    .dataframe tbody tr th:only-of-type {\n",
              "        vertical-align: middle;\n",
              "    }\n",
              "\n",
              "    .dataframe tbody tr th {\n",
              "        vertical-align: top;\n",
              "    }\n",
              "\n",
              "    .dataframe thead th {\n",
              "        text-align: right;\n",
              "    }\n",
              "</style>\n",
              "<table border=\"1\" class=\"dataframe\">\n",
              "  <thead>\n",
              "    <tr style=\"text-align: right;\">\n",
              "      <th></th>\n",
              "      <th>proportion</th>\n",
              "    </tr>\n",
              "    <tr>\n",
              "      <th>DRUG</th>\n",
              "      <th></th>\n",
              "    </tr>\n",
              "  </thead>\n",
              "  <tbody>\n",
              "    <tr>\n",
              "      <th>drugY</th>\n",
              "      <td>45.5</td>\n",
              "    </tr>\n",
              "    <tr>\n",
              "      <th>drugX</th>\n",
              "      <td>27.0</td>\n",
              "    </tr>\n",
              "    <tr>\n",
              "      <th>drugA</th>\n",
              "      <td>11.5</td>\n",
              "    </tr>\n",
              "    <tr>\n",
              "      <th>drugC</th>\n",
              "      <td>8.0</td>\n",
              "    </tr>\n",
              "    <tr>\n",
              "      <th>drugB</th>\n",
              "      <td>8.0</td>\n",
              "    </tr>\n",
              "  </tbody>\n",
              "</table>\n",
              "</div><br><label><b>dtype:</b> float64</label>"
            ]
          },
          "metadata": {},
          "execution_count": 9
        }
      ]
    },
    {
      "cell_type": "markdown",
      "source": [
        "# Preprocessing"
      ],
      "metadata": {
        "id": "rMxwLZwQp0rS"
      }
    },
    {
      "cell_type": "markdown",
      "source": [
        "## Na_to_K"
      ],
      "metadata": {
        "id": "foFaulutrdh3"
      }
    },
    {
      "cell_type": "code",
      "source": [
        "drug_train['Na_to_K'] = drug_train['NA'] / drug_train['K']\n",
        "drug_test['Na_to_K'] = drug_test['NA'] / drug_test['K']\n",
        "unseen['Na_to_K'] = unseen['NA'] / unseen['K']"
      ],
      "metadata": {
        "id": "uKCm4A8kosn_"
      },
      "execution_count": 10,
      "outputs": []
    },
    {
      "cell_type": "code",
      "source": [
        "drug_train.drop(['NA', 'K'], axis=1, inplace=True)\n",
        "drug_test.drop(['NA', 'K'], axis=1, inplace=True)\n",
        "unseen.drop(['NA', 'K'], axis=1, inplace=True)"
      ],
      "metadata": {
        "id": "FX04EkCfr6mE"
      },
      "execution_count": 11,
      "outputs": []
    },
    {
      "cell_type": "code",
      "source": [
        "PrintHead()"
      ],
      "metadata": {
        "colab": {
          "base_uri": "https://localhost:8080/"
        },
        "id": "tcwwEeySsDtM",
        "outputId": "c539e1dd-fa03-416b-cd98-20914b4dccf3"
      },
      "execution_count": 12,
      "outputs": [
        {
          "output_type": "stream",
          "name": "stdout",
          "text": [
            "Drug_Train\n",
            "\n",
            "  AGE SEX      BP CHOLES   DRUG    Na_to_K\n",
            "0  23   F    HIGH   HIGH  drugY  25.354629\n",
            "1  47   M     LOW   HIGH  drugC  13.092530\n",
            "2  47   M     LOW   HIGH  drugC  10.113556\n",
            "3  28   F  NORMAL   HIGH  drugX   7.797618\n",
            "4  61   F     LOW   HIGH  drugY  18.042906\n",
            "\n",
            "Drug_Test\n",
            "\n",
            "  AGE SEX      BP  CHOLES   DRUG    Na_to_K\n",
            "0  57   M     LOW  NORMAL  drugY  19.127829\n",
            "1  49   F  NORMAL  NORMAL  drugX   9.380717\n",
            "2  74   M    HIGH    HIGH  drugB   9.566782\n",
            "3  49   M     LOW  NORMAL  drugX  11.013743\n",
            "4  65   F    HIGH  NORMAL  drugY  31.875788\n",
            "\n",
            "Drug_Unseen\n",
            "\n",
            "  AGE SEX      BP  CHOLES  DRUG    Na_to_K\n",
            "0  57   M     LOW  NORMAL   NaN  19.127829\n",
            "1  49   F  NORMAL  NORMAL   NaN   9.380717\n",
            "2  74   M    HIGH    HIGH   NaN   9.566782\n",
            "3  49   M     LOW  NORMAL   NaN  11.013743\n",
            "4  65   F    HIGH  NORMAL   NaN  31.875788\n"
          ]
        }
      ]
    },
    {
      "cell_type": "markdown",
      "source": [
        "## Discretization"
      ],
      "metadata": {
        "id": "dFNbrXU6t_e9"
      }
    },
    {
      "cell_type": "markdown",
      "source": [
        "* Low: <= 10\n",
        "* Medium: <= 20\n",
        "* High: <= 30\n",
        "* VeryHigh: <= 40"
      ],
      "metadata": {
        "id": "XLgjNL7aw71b"
      }
    },
    {
      "cell_type": "code",
      "source": [
        "bins = [-float('inf'), 10, 20, 30, 40]\n",
        "labels = ['Low', 'Medium', 'High', 'VeryHigh']\n",
        "\n",
        "drug_train['na2k'] = pd.cut(drug_train['Na_to_K'], bins=bins, labels=labels, right=True)\n",
        "drug_test['na2k'] = pd.cut(drug_test['Na_to_K'], bins=bins, labels=labels, right=True)\n",
        "unseen['na2k'] = pd.cut(unseen['Na_to_K'], bins=bins, labels=labels, right=True)\n",
        "\n",
        "drug_train.drop('Na_to_K', axis=1, inplace=True)\n",
        "drug_test.drop('Na_to_K', axis=1, inplace=True)\n",
        "unseen.drop('Na_to_K', axis=1, inplace=True)"
      ],
      "metadata": {
        "id": "zVMluNYIwPxb"
      },
      "execution_count": 13,
      "outputs": []
    },
    {
      "cell_type": "code",
      "source": [
        "PrintHead()"
      ],
      "metadata": {
        "colab": {
          "base_uri": "https://localhost:8080/"
        },
        "id": "3yuKxcCRyJyX",
        "outputId": "0291f65d-0c5d-406a-cb39-394ef4e70160"
      },
      "execution_count": 14,
      "outputs": [
        {
          "output_type": "stream",
          "name": "stdout",
          "text": [
            "Drug_Train\n",
            "\n",
            "  AGE SEX      BP CHOLES   DRUG    na2k\n",
            "0  23   F    HIGH   HIGH  drugY    High\n",
            "1  47   M     LOW   HIGH  drugC  Medium\n",
            "2  47   M     LOW   HIGH  drugC  Medium\n",
            "3  28   F  NORMAL   HIGH  drugX     Low\n",
            "4  61   F     LOW   HIGH  drugY  Medium\n",
            "\n",
            "Drug_Test\n",
            "\n",
            "  AGE SEX      BP  CHOLES   DRUG      na2k\n",
            "0  57   M     LOW  NORMAL  drugY    Medium\n",
            "1  49   F  NORMAL  NORMAL  drugX       Low\n",
            "2  74   M    HIGH    HIGH  drugB       Low\n",
            "3  49   M     LOW  NORMAL  drugX    Medium\n",
            "4  65   F    HIGH  NORMAL  drugY  VeryHigh\n",
            "\n",
            "Drug_Unseen\n",
            "\n",
            "  AGE SEX      BP  CHOLES  DRUG      na2k\n",
            "0  57   M     LOW  NORMAL   NaN    Medium\n",
            "1  49   F  NORMAL  NORMAL   NaN       Low\n",
            "2  74   M    HIGH    HIGH   NaN       Low\n",
            "3  49   M     LOW  NORMAL   NaN    Medium\n",
            "4  65   F    HIGH  NORMAL   NaN  VeryHigh\n"
          ]
        }
      ]
    },
    {
      "cell_type": "markdown",
      "source": [
        "# Model Construction"
      ],
      "metadata": {
        "id": "EtHdNllItXnc"
      }
    },
    {
      "cell_type": "markdown",
      "source": [
        "## One Hot Encoder"
      ],
      "metadata": {
        "id": "Yn3_3SJ5-gKn"
      }
    },
    {
      "cell_type": "code",
      "source": [
        "cols = [\"SEX\",\"BP\",\"CHOLES\",\"na2k\"]\n",
        "\n",
        "hot_train = pd.get_dummies(drug_train, columns = cols)\n",
        "hot_test = pd.get_dummies(drug_test, columns = cols)\n",
        "hot_unseen = pd.get_dummies(unseen, columns = cols)"
      ],
      "metadata": {
        "id": "Xup8ye7EbqxP"
      },
      "execution_count": 15,
      "outputs": []
    },
    {
      "cell_type": "markdown",
      "source": [
        "'''from sklearn.preprocessing import LabelEncoder\n",
        "le = LabelEncoder()\n",
        "cols = ['SEX', 'BP', 'CHOLES', 'na2k']\n",
        "for i in cols:\n",
        "    X_train[i] = le.fit_transform(X_train[i])\n",
        "    X_test[i] = le.transform(X_test[i])\n",
        "    unseen[i] = le.transform(unseen[i])'''"
      ],
      "metadata": {
        "id": "KWR6GQmYcp34"
      }
    },
    {
      "cell_type": "markdown",
      "source": [
        "## splt train test"
      ],
      "metadata": {
        "id": "dU0K2D3w-rKB"
      }
    },
    {
      "cell_type": "code",
      "source": [
        "X_train = hot_train.drop(['DRUG'], axis=1)\n",
        "y_train = hot_train['DRUG']\n",
        "X_test = hot_test.drop(['DRUG'], axis=1)\n",
        "y_test = hot_test['DRUG']\n",
        "\n",
        "hot_unseen.drop(['DRUG'], axis=1, inplace=True)"
      ],
      "metadata": {
        "id": "Em56p4_e-plE"
      },
      "execution_count": 16,
      "outputs": []
    },
    {
      "cell_type": "code",
      "source": [
        "print(X_train.head())\n",
        "print(X_test.head())\n",
        "print(hot_unseen.head())"
      ],
      "metadata": {
        "colab": {
          "base_uri": "https://localhost:8080/"
        },
        "id": "JJrqXVb7-S0J",
        "outputId": "322534c2-6ce6-4397-938d-f23f9242bd62"
      },
      "execution_count": 17,
      "outputs": [
        {
          "output_type": "stream",
          "name": "stdout",
          "text": [
            "  AGE  SEX_F  SEX_M  BP_HIGH  BP_LOW  BP_NORMAL  CHOLES_HIGH  CHOLES_NORMAL  \\\n",
            "0  23   True  False     True   False      False         True          False   \n",
            "1  47  False   True    False    True      False         True          False   \n",
            "2  47  False   True    False    True      False         True          False   \n",
            "3  28   True  False    False   False       True         True          False   \n",
            "4  61   True  False    False    True      False         True          False   \n",
            "\n",
            "   na2k_Low  na2k_Medium  na2k_High  na2k_VeryHigh  \n",
            "0     False        False       True          False  \n",
            "1     False         True      False          False  \n",
            "2     False         True      False          False  \n",
            "3      True        False      False          False  \n",
            "4     False         True      False          False  \n",
            "  AGE  SEX_F  SEX_M  BP_HIGH  BP_LOW  BP_NORMAL  CHOLES_HIGH  CHOLES_NORMAL  \\\n",
            "0  57  False   True    False    True      False        False           True   \n",
            "1  49   True  False    False   False       True        False           True   \n",
            "2  74  False   True     True   False      False         True          False   \n",
            "3  49  False   True    False    True      False        False           True   \n",
            "4  65   True  False     True   False      False        False           True   \n",
            "\n",
            "   na2k_Low  na2k_Medium  na2k_High  na2k_VeryHigh  \n",
            "0     False         True      False          False  \n",
            "1      True        False      False          False  \n",
            "2      True        False      False          False  \n",
            "3     False         True      False          False  \n",
            "4     False        False      False           True  \n",
            "  AGE  SEX_F  SEX_M  BP_HIGH  BP_LOW  BP_NORMAL  CHOLES_HIGH  CHOLES_NORMAL  \\\n",
            "0  57  False   True    False    True      False        False           True   \n",
            "1  49   True  False    False   False       True        False           True   \n",
            "2  74  False   True     True   False      False         True          False   \n",
            "3  49  False   True    False    True      False        False           True   \n",
            "4  65   True  False     True   False      False        False           True   \n",
            "\n",
            "   na2k_Low  na2k_Medium  na2k_High  na2k_VeryHigh  \n",
            "0     False         True      False          False  \n",
            "1      True        False      False          False  \n",
            "2      True        False      False          False  \n",
            "3     False         True      False          False  \n",
            "4     False        False      False           True  \n"
          ]
        }
      ]
    },
    {
      "cell_type": "markdown",
      "source": [
        "## Modeling"
      ],
      "metadata": {
        "id": "YImsoN8p5GPt"
      }
    },
    {
      "cell_type": "code",
      "source": [
        "from sklearn import tree\n",
        "classifier = tree.DecisionTreeClassifier(max_depth = 3, criterion = 'entropy', random_state = 0)\n",
        "classifier.fit(X_train, y_train)\n",
        "y_pred = classifier.predict(X_test)"
      ],
      "metadata": {
        "id": "JzVjRyuSx-m6"
      },
      "execution_count": 18,
      "outputs": []
    },
    {
      "cell_type": "code",
      "source": [
        "print(y_pred[0:])\n",
        "print(y_test[0:])"
      ],
      "metadata": {
        "id": "-7Y8vNoEto2s",
        "colab": {
          "base_uri": "https://localhost:8080/"
        },
        "outputId": "446fe8ec-9494-46c0-a2f6-b40a07e0b797"
      },
      "execution_count": 19,
      "outputs": [
        {
          "output_type": "stream",
          "name": "stdout",
          "text": [
            "['drugX' 'drugX' 'drugB' 'drugX' 'drugB' 'drugX' 'drugA' 'drugX' 'drugB'\n",
            " 'drugX' 'drugA' 'drugY' 'drugX' 'drugB']\n",
            "0     drugY\n",
            "1     drugX\n",
            "2     drugB\n",
            "3     drugX\n",
            "4     drugY\n",
            "5     drugX\n",
            "6     drugA\n",
            "7     drugC\n",
            "8     drugB\n",
            "9     drugC\n",
            "10    drugA\n",
            "11    drugY\n",
            "12    drugX\n",
            "13    drugB\n",
            "Name: DRUG, dtype: object\n"
          ]
        }
      ]
    },
    {
      "cell_type": "markdown",
      "source": [
        "## the number of levels"
      ],
      "metadata": {
        "id": "TYxRZgcg4SvP"
      }
    },
    {
      "cell_type": "code",
      "source": [
        "print(f\"Number of levels in tree = {classifier.get_depth()}\")"
      ],
      "metadata": {
        "colab": {
          "base_uri": "https://localhost:8080/"
        },
        "id": "v56iCb-Iaf8V",
        "outputId": "61a6e8e4-ad13-4e7a-d0bf-e0a0d65b4ea4"
      },
      "execution_count": 20,
      "outputs": [
        {
          "output_type": "stream",
          "name": "stdout",
          "text": [
            "Number of levels in tree = 3\n"
          ]
        }
      ]
    },
    {
      "cell_type": "markdown",
      "source": [
        "## set of rules"
      ],
      "metadata": {
        "id": "o2_h6_8t4WcV"
      }
    },
    {
      "cell_type": "code",
      "source": [
        "X_train_encoded = pd.get_dummies(drug_train)\n",
        "feature_names = X_train_encoded.columns\n",
        "print(\"Features after Encoding :\")\n",
        "print(feature_names)"
      ],
      "metadata": {
        "colab": {
          "base_uri": "https://localhost:8080/"
        },
        "id": "6hKu3I6mqkyy",
        "outputId": "7e41e487-002a-47dd-f9b6-f81f24a9664b"
      },
      "execution_count": 21,
      "outputs": [
        {
          "output_type": "stream",
          "name": "stdout",
          "text": [
            "Features after Encoding :\n",
            "Index(['AGE_15', 'AGE_16', 'AGE_17', 'AGE_18', 'AGE_19', 'AGE_20', 'AGE_21',\n",
            "       'AGE_22', 'AGE_23', 'AGE_24', 'AGE_25', 'AGE_26', 'AGE_28', 'AGE_29',\n",
            "       'AGE_30', 'AGE_31', 'AGE_32', 'AGE_33', 'AGE_34', 'AGE_35', 'AGE_36',\n",
            "       'AGE_37', 'AGE_38', 'AGE_39', 'AGE_40', 'AGE_41', 'AGE_42', 'AGE_43',\n",
            "       'AGE_45', 'AGE_46', 'AGE_47', 'AGE_48', 'AGE_49', 'AGE_50', 'AGE_51',\n",
            "       'AGE_52', 'AGE_53', 'AGE_54', 'AGE_55', 'AGE_56', 'AGE_57', 'AGE_58',\n",
            "       'AGE_59', 'AGE_60', 'AGE_61', 'AGE_62', 'AGE_63', 'AGE_64', 'AGE_65',\n",
            "       'AGE_66', 'AGE_67', 'AGE_68', 'AGE_69', 'AGE_70', 'AGE_72', 'AGE_73',\n",
            "       'AGE_74', 'SEX_F', 'SEX_M', 'BP_HIGH', 'BP_LOW', 'BP_NORMAL',\n",
            "       'CHOLES_HIGH', 'CHOLES_NORMAL', 'DRUG_drugA', 'DRUG_drugB',\n",
            "       'DRUG_drugC', 'DRUG_drugX', 'DRUG_drugY', 'na2k_Low', 'na2k_Medium',\n",
            "       'na2k_High', 'na2k_VeryHigh'],\n",
            "      dtype='object')\n"
          ]
        }
      ]
    },
    {
      "cell_type": "code",
      "source": [
        "plt.figure(figsize=(15,10))\n",
        "tree.plot_tree(classifier,feature_names=X_train.columns, filled=True)"
      ],
      "metadata": {
        "colab": {
          "base_uri": "https://localhost:8080/",
          "height": 920
        },
        "id": "p5IqIeSwq9JB",
        "outputId": "9702efa7-1937-4602-a6a8-f9aad30be216"
      },
      "execution_count": 22,
      "outputs": [
        {
          "output_type": "execute_result",
          "data": {
            "text/plain": [
              "[Text(0.4583333333333333, 0.875, 'BP_HIGH <= 0.5\\nentropy = 1.969\\nsamples = 200\\nvalue = [23, 16, 16, 54, 91]'),\n",
              " Text(0.25, 0.625, 'na2k_High <= 0.5\\nentropy = 1.428\\nsamples = 123\\nvalue = [0, 0, 16, 54, 53]'),\n",
              " Text(0.35416666666666663, 0.75, 'True  '),\n",
              " Text(0.16666666666666666, 0.375, 'BP_NORMAL <= 0.5\\nentropy = 1.43\\nsamples = 102\\nvalue = [0, 0, 16, 54, 32]'),\n",
              " Text(0.08333333333333333, 0.125, 'entropy = 1.583\\nsamples = 52\\nvalue = [0, 0, 16, 18, 18]'),\n",
              " Text(0.25, 0.125, 'entropy = 0.855\\nsamples = 50\\nvalue = [0.0, 0.0, 0.0, 36.0, 14.0]'),\n",
              " Text(0.3333333333333333, 0.375, 'entropy = 0.0\\nsamples = 21\\nvalue = [0, 0, 0, 0, 21]'),\n",
              " Text(0.6666666666666666, 0.625, 'AGE <= 50.5\\nentropy = 1.495\\nsamples = 77\\nvalue = [23, 16, 0, 0, 38]'),\n",
              " Text(0.5625, 0.75, '  False'),\n",
              " Text(0.5, 0.375, 'na2k_High <= 0.5\\nentropy = 0.995\\nsamples = 50\\nvalue = [23, 0, 0, 0, 27]'),\n",
              " Text(0.4166666666666667, 0.125, 'entropy = 0.977\\nsamples = 39\\nvalue = [23, 0, 0, 0, 16]'),\n",
              " Text(0.5833333333333334, 0.125, 'entropy = 0.0\\nsamples = 11\\nvalue = [0, 0, 0, 0, 11]'),\n",
              " Text(0.8333333333333334, 0.375, 'na2k_Low <= 0.5\\nentropy = 0.975\\nsamples = 27\\nvalue = [0, 16, 0, 0, 11]'),\n",
              " Text(0.75, 0.125, 'entropy = 1.0\\nsamples = 22\\nvalue = [0, 11, 0, 0, 11]'),\n",
              " Text(0.9166666666666666, 0.125, 'entropy = 0.0\\nsamples = 5\\nvalue = [0, 5, 0, 0, 0]')]"
            ]
          },
          "metadata": {},
          "execution_count": 22
        },
        {
          "output_type": "display_data",
          "data": {
            "text/plain": [
              "<Figure size 1500x1000 with 1 Axes>"
            ],
            "image/png": "[encoded data removed]"
          },
          "metadata": {}
        }
      ]
    },
    {
      "cell_type": "code",
      "source": [
        "print(X_train.columns)"
      ],
      "metadata": {
        "colab": {
          "base_uri": "https://localhost:8080/"
        },
        "id": "TlyI_YM3dWhQ",
        "outputId": "2221ade6-b90c-45cb-e409-b7b7bba9b6ed"
      },
      "execution_count": 23,
      "outputs": [
        {
          "output_type": "stream",
          "name": "stdout",
          "text": [
            "Index(['AGE', 'SEX_F', 'SEX_M', 'BP_HIGH', 'BP_LOW', 'BP_NORMAL',\n",
            "       'CHOLES_HIGH', 'CHOLES_NORMAL', 'na2k_Low', 'na2k_Medium', 'na2k_High',\n",
            "       'na2k_VeryHigh'],\n",
            "      dtype='object')\n"
          ]
        }
      ]
    },
    {
      "cell_type": "code",
      "source": [
        "feature_names = list(X_train.columns)\n",
        "print(tree.export_text(classifier, feature_names=feature_names))"
      ],
      "metadata": {
        "colab": {
          "base_uri": "https://localhost:8080/"
        },
        "id": "aZ0DUast3wua",
        "outputId": "0d49b00c-f6da-4adb-c514-0c089cdaa9f4"
      },
      "execution_count": 24,
      "outputs": [
        {
          "output_type": "stream",
          "name": "stdout",
          "text": [
            "|--- BP_HIGH <= 0.50\n",
            "|   |--- na2k_High <= 0.50\n",
            "|   |   |--- BP_NORMAL <= 0.50\n",
            "|   |   |   |--- class: drugX\n",
            "|   |   |--- BP_NORMAL >  0.50\n",
            "|   |   |   |--- class: drugX\n",
            "|   |--- na2k_High >  0.50\n",
            "|   |   |--- class: drugY\n",
            "|--- BP_HIGH >  0.50\n",
            "|   |--- AGE <= 50.50\n",
            "|   |   |--- na2k_High <= 0.50\n",
            "|   |   |   |--- class: drugA\n",
            "|   |   |--- na2k_High >  0.50\n",
            "|   |   |   |--- class: drugY\n",
            "|   |--- AGE >  50.50\n",
            "|   |   |--- na2k_Low <= 0.50\n",
            "|   |   |   |--- class: drugB\n",
            "|   |   |--- na2k_Low >  0.50\n",
            "|   |   |   |--- class: drugB\n",
            "\n"
          ]
        }
      ]
    },
    {
      "cell_type": "markdown",
      "source": [
        "# Performance evaluation"
      ],
      "metadata": {
        "id": "MXGhhG-gstsT"
      }
    },
    {
      "cell_type": "code",
      "source": [
        "from sklearn.metrics import classification_report, confusion_matrix,accuracy_score\n",
        "accuracy = accuracy_score(y_test, y_pred)\n",
        "print(f'Model accuracy score with criterion entropy: {accuracy:6f}')"
      ],
      "metadata": {
        "colab": {
          "base_uri": "https://localhost:8080/"
        },
        "id": "jPHLR9fF_y1y",
        "outputId": "574a0020-b2ec-42d9-de46-d5470fa9ab31"
      },
      "execution_count": 25,
      "outputs": [
        {
          "output_type": "stream",
          "name": "stdout",
          "text": [
            "Model accuracy score with criterion entropy: 0.714286\n"
          ]
        }
      ]
    },
    {
      "cell_type": "code",
      "source": [
        "cm = confusion_matrix(y_test, y_pred)\n",
        "print(cm)\n",
        "print(classification_report(y_test,y_pred))"
      ],
      "metadata": {
        "colab": {
          "base_uri": "https://localhost:8080/"
        },
        "id": "sDPufY4hyMDt",
        "outputId": "58285758-a077-4174-cf4e-931d3f466d08"
      },
      "execution_count": 26,
      "outputs": [
        {
          "output_type": "stream",
          "name": "stdout",
          "text": [
            "[[2 0 0 0 0]\n",
            " [0 3 0 0 0]\n",
            " [0 0 0 2 0]\n",
            " [0 0 0 4 0]\n",
            " [0 1 0 1 1]]\n",
            "              precision    recall  f1-score   support\n",
            "\n",
            "       drugA       1.00      1.00      1.00         2\n",
            "       drugB       0.75      1.00      0.86         3\n",
            "       drugC       0.00      0.00      0.00         2\n",
            "       drugX       0.57      1.00      0.73         4\n",
            "       drugY       1.00      0.33      0.50         3\n",
            "\n",
            "    accuracy                           0.71        14\n",
            "   macro avg       0.66      0.67      0.62        14\n",
            "weighted avg       0.68      0.71      0.64        14\n",
            "\n"
          ]
        },
        {
          "output_type": "stream",
          "name": "stderr",
          "text": [
            "/usr/local/lib/python3.10/dist-packages/sklearn/metrics/_classification.py:1531: UndefinedMetricWarning: Precision is ill-defined and being set to 0.0 in labels with no predicted samples. Use `zero_division` parameter to control this behavior.\n",
            "  _warn_prf(average, modifier, f\"{metric.capitalize()} is\", len(result))\n",
            "/usr/local/lib/python3.10/dist-packages/sklearn/metrics/_classification.py:1531: UndefinedMetricWarning: Precision is ill-defined and being set to 0.0 in labels with no predicted samples. Use `zero_division` parameter to control this behavior.\n",
            "  _warn_prf(average, modifier, f\"{metric.capitalize()} is\", len(result))\n",
            "/usr/local/lib/python3.10/dist-packages/sklearn/metrics/_classification.py:1531: UndefinedMetricWarning: Precision is ill-defined and being set to 0.0 in labels with no predicted samples. Use `zero_division` parameter to control this behavior.\n",
            "  _warn_prf(average, modifier, f\"{metric.capitalize()} is\", len(result))\n"
          ]
        }
      ]
    },
    {
      "cell_type": "markdown",
      "source": [
        "# Propose your best model"
      ],
      "metadata": {
        "id": "ugJAB9R6eaqu"
      }
    },
    {
      "cell_type": "code",
      "source": [
        "for depth in range(3, 20):\n",
        "    classifier = tree.DecisionTreeClassifier(max_depth = depth, criterion='entropy', random_state=0)\n",
        "    classifier.fit(X_train, y_train)\n",
        "    y_pred = classifier.predict(X_test)\n",
        "    score = accuracy_score(y_test, y_pred)\n",
        "\n",
        "    print(f\"Max Depth: {depth}, Accuracy Score: {score}\")"
      ],
      "metadata": {
        "colab": {
          "base_uri": "https://localhost:8080/"
        },
        "id": "jyHpSMlGee0Z",
        "outputId": "cef3bcc3-e4ec-4f44-bf0f-e32559905d38"
      },
      "execution_count": 27,
      "outputs": [
        {
          "output_type": "stream",
          "name": "stdout",
          "text": [
            "Max Depth: 3, Accuracy Score: 0.7142857142857143\n",
            "Max Depth: 4, Accuracy Score: 0.9285714285714286\n",
            "Max Depth: 5, Accuracy Score: 0.9285714285714286\n",
            "Max Depth: 6, Accuracy Score: 0.9285714285714286\n",
            "Max Depth: 7, Accuracy Score: 0.9285714285714286\n",
            "Max Depth: 8, Accuracy Score: 1.0\n",
            "Max Depth: 9, Accuracy Score: 1.0\n",
            "Max Depth: 10, Accuracy Score: 1.0\n",
            "Max Depth: 11, Accuracy Score: 1.0\n",
            "Max Depth: 12, Accuracy Score: 1.0\n",
            "Max Depth: 13, Accuracy Score: 1.0\n",
            "Max Depth: 14, Accuracy Score: 1.0\n",
            "Max Depth: 15, Accuracy Score: 1.0\n",
            "Max Depth: 16, Accuracy Score: 1.0\n",
            "Max Depth: 17, Accuracy Score: 1.0\n",
            "Max Depth: 18, Accuracy Score: 1.0\n",
            "Max Depth: 19, Accuracy Score: 1.0\n"
          ]
        }
      ]
    },
    {
      "cell_type": "markdown",
      "source": [
        "# Prediction of Unseen"
      ],
      "metadata": {
        "id": "VpEMf2VP0m-9"
      }
    },
    {
      "cell_type": "code",
      "source": [
        "# use depth = 4 instead\n",
        "\n",
        "classifier = tree.DecisionTreeClassifier(max_depth=4, criterion='entropy', random_state=0)\n",
        "classifier.fit(X_train, y_train)\n",
        "y_pred = classifier.predict(X_test)"
      ],
      "metadata": {
        "id": "G99LxLu8hMG_"
      },
      "execution_count": 28,
      "outputs": []
    },
    {
      "cell_type": "code",
      "source": [
        "pred_unseen = classifier.predict(hot_unseen)\n",
        "pred_unseen"
      ],
      "metadata": {
        "colab": {
          "base_uri": "https://localhost:8080/"
        },
        "id": "j0IPu9YIz0Hq",
        "outputId": "e61de684-1062-4470-b245-d6b78f10f416"
      },
      "execution_count": 29,
      "outputs": [
        {
          "output_type": "execute_result",
          "data": {
            "text/plain": [
              "array(['drugX', 'drugX', 'drugB', 'drugX', 'drugY', 'drugX', 'drugA',\n",
              "       'drugC', 'drugB', 'drugC', 'drugA', 'drugY', 'drugX', 'drugB'],\n",
              "      dtype=object)"
            ]
          },
          "metadata": {},
          "execution_count": 29
        }
      ]
    },
    {
      "cell_type": "code",
      "source": [
        "unseen['DRUG'] = pred_unseen\n",
        "unseen"
      ],
      "metadata": {
        "colab": {
          "base_uri": "https://localhost:8080/",
          "height": 488
        },
        "id": "rYUTBffq5drv",
        "outputId": "bf3699c8-5294-4649-b36d-e413cdb4caf7"
      },
      "execution_count": 30,
      "outputs": [
        {
          "output_type": "execute_result",
          "data": {
            "text/plain": [
              "   AGE SEX      BP  CHOLES   DRUG      na2k\n",
              "0   57   M     LOW  NORMAL  drugX    Medium\n",
              "1   49   F  NORMAL  NORMAL  drugX       Low\n",
              "2   74   M    HIGH    HIGH  drugB       Low\n",
              "3   49   M     LOW  NORMAL  drugX    Medium\n",
              "4   65   F    HIGH  NORMAL  drugY  VeryHigh\n",
              "5   53   M  NORMAL    HIGH  drugX    Medium\n",
              "6   32   M    HIGH  NORMAL  drugA       Low\n",
              "7   68   M     LOW    HIGH  drugC    Medium\n",
              "8   68   F    HIGH  NORMAL  drugB    Medium\n",
              "9   26   F     LOW    HIGH  drugC    Medium\n",
              "10  24   M    HIGH  NORMAL  drugA       Low\n",
              "11  67   M     LOW  NORMAL  drugY      High\n",
              "12  45   M     LOW  NORMAL  drugX       Low\n",
              "13  60   F    HIGH    HIGH  drugB    Medium"
            ],
            "text/html": [
              "\n",
              "  <div id=\"df-17999af8-63e9-42e6-92e0-468fe0dbb402\" class=\"colab-df-container\">\n",
              "    <div>\n",
              "<style scoped>\n",
              "    .dataframe tbody tr th:only-of-type {\n",
              "        vertical-align: middle;\n",
              "    }\n",
              "\n",
              "    .dataframe tbody tr th {\n",
              "        vertical-align: top;\n",
              "    }\n",
              "\n",
              "    .dataframe thead th {\n",
              "        text-align: right;\n",
              "    }\n",
              "</style>\n",
              "<table border=\"1\" class=\"dataframe\">\n",
              "  <thead>\n",
              "    <tr style=\"text-align: right;\">\n",
              "      <th></th>\n",
              "      <th>AGE</th>\n",
              "      <th>SEX</th>\n",
              "      <th>BP</th>\n",
              "      <th>CHOLES</th>\n",
              "      <th>DRUG</th>\n",
              "      <th>na2k</th>\n",
              "    </tr>\n",
              "  </thead>\n",
              "  <tbody>\n",
              "    <tr>\n",
              "      <th>0</th>\n",
              "      <td>57</td>\n",
              "      <td>M</td>\n",
              "      <td>LOW</td>\n",
              "      <td>NORMAL</td>\n",
              "      <td>drugX</td>\n",
              "      <td>Medium</td>\n",
              "    </tr>\n",
              "    <tr>\n",
              "      <th>1</th>\n",
              "      <td>49</td>\n",
              "      <td>F</td>\n",
              "      <td>NORMAL</td>\n",
              "      <td>NORMAL</td>\n",
              "      <td>drugX</td>\n",
              "      <td>Low</td>\n",
              "    </tr>\n",
              "    <tr>\n",
              "      <th>2</th>\n",
              "      <td>74</td>\n",
              "      <td>M</td>\n",
              "      <td>HIGH</td>\n",
              "      <td>HIGH</td>\n",
              "      <td>drugB</td>\n",
              "      <td>Low</td>\n",
              "    </tr>\n",
              "    <tr>\n",
              "      <th>3</th>\n",
              "      <td>49</td>\n",
              "      <td>M</td>\n",
              "      <td>LOW</td>\n",
              "      <td>NORMAL</td>\n",
              "      <td>drugX</td>\n",
              "      <td>Medium</td>\n",
              "    </tr>\n",
              "    <tr>\n",
              "      <th>4</th>\n",
              "      <td>65</td>\n",
              "      <td>F</td>\n",
              "      <td>HIGH</td>\n",
              "      <td>NORMAL</td>\n",
              "      <td>drugY</td>\n",
              "      <td>VeryHigh</td>\n",
              "    </tr>\n",
              "    <tr>\n",
              "      <th>5</th>\n",
              "      <td>53</td>\n",
              "      <td>M</td>\n",
              "      <td>NORMAL</td>\n",
              "      <td>HIGH</td>\n",
              "      <td>drugX</td>\n",
              "      <td>Medium</td>\n",
              "    </tr>\n",
              "    <tr>\n",
              "      <th>6</th>\n",
              "      <td>32</td>\n",
              "      <td>M</td>\n",
              "      <td>HIGH</td>\n",
              "      <td>NORMAL</td>\n",
              "      <td>drugA</td>\n",
              "      <td>Low</td>\n",
              "    </tr>\n",
              "    <tr>\n",
              "      <th>7</th>\n",
              "      <td>68</td>\n",
              "      <td>M</td>\n",
              "      <td>LOW</td>\n",
              "      <td>HIGH</td>\n",
              "      <td>drugC</td>\n",
              "      <td>Medium</td>\n",
              "    </tr>\n",
              "    <tr>\n",
              "      <th>8</th>\n",
              "      <td>68</td>\n",
              "      <td>F</td>\n",
              "      <td>HIGH</td>\n",
              "      <td>NORMAL</td>\n",
              "      <td>drugB</td>\n",
              "      <td>Medium</td>\n",
              "    </tr>\n",
              "    <tr>\n",
              "      <th>9</th>\n",
              "      <td>26</td>\n",
              "      <td>F</td>\n",
              "      <td>LOW</td>\n",
              "      <td>HIGH</td>\n",
              "      <td>drugC</td>\n",
              "      <td>Medium</td>\n",
              "    </tr>\n",
              "    <tr>\n",
              "      <th>10</th>\n",
              "      <td>24</td>\n",
              "      <td>M</td>\n",
              "      <td>HIGH</td>\n",
              "      <td>NORMAL</td>\n",
              "      <td>drugA</td>\n",
              "      <td>Low</td>\n",
              "    </tr>\n",
              "    <tr>\n",
              "      <th>11</th>\n",
              "      <td>67</td>\n",
              "      <td>M</td>\n",
              "      <td>LOW</td>\n",
              "      <td>NORMAL</td>\n",
              "      <td>drugY</td>\n",
              "      <td>High</td>\n",
              "    </tr>\n",
              "    <tr>\n",
              "      <th>12</th>\n",
              "      <td>45</td>\n",
              "      <td>M</td>\n",
              "      <td>LOW</td>\n",
              "      <td>NORMAL</td>\n",
              "      <td>drugX</td>\n",
              "      <td>Low</td>\n",
              "    </tr>\n",
              "    <tr>\n",
              "      <th>13</th>\n",
              "      <td>60</td>\n",
              "      <td>F</td>\n",
              "      <td>HIGH</td>\n",
              "      <td>HIGH</td>\n",
              "      <td>drugB</td>\n",
              "      <td>Medium</td>\n",
              "    </tr>\n",
              "  </tbody>\n",
              "</table>\n",
              "</div>\n",
              "    <div class=\"colab-df-buttons\">\n",
              "\n",
              "  <div class=\"colab-df-container\">\n",
              "    <button class=\"colab-df-convert\" onclick=\"convertToInteractive('df-17999af8-63e9-42e6-92e0-468fe0dbb402')\"\n",
              "            title=\"Convert this dataframe to an interactive table.\"\n",
              "            style=\"display:none;\">\n",
              "\n",
              "  <svg xmlns=\"http://www.w3.org/2000/svg\" height=\"24px\" viewBox=\"0 -960 960 960\">\n",
              "    <path d=\"M120-120v-720h720v720H120Zm60-500h600v-160H180v160Zm220 220h160v-160H400v160Zm0 220h160v-160H400v160ZM180-400h160v-160H180v160Zm440 0h160v-160H620v160ZM180-180h160v-160H180v160Zm440 0h160v-160H620v160Z\"/>\n",
              "  </svg>\n",
              "    </button>\n",
              "\n",
              "  <style>\n",
              "    .colab-df-container {\n",
              "      display:flex;\n",
              "      gap: 12px;\n",
              "    }\n",
              "\n",
              "    .colab-df-convert {\n",
              "      background-color: #E8F0FE;\n",
              "      border: none;\n",
              "      border-radius: 50%;\n",
              "      cursor: pointer;\n",
              "      display: none;\n",
              "      fill: #1967D2;\n",
              "      height: 32px;\n",
              "      padding: 0 0 0 0;\n",
              "      width: 32px;\n",
              "    }\n",
              "\n",
              "    .colab-df-convert:hover {\n",
              "      background-color: #E2EBFA;\n",
              "      box-shadow: 0px 1px 2px rgba(60, 64, 67, 0.3), 0px 1px 3px 1px rgba(60, 64, 67, 0.15);\n",
              "      fill: #174EA6;\n",
              "    }\n",
              "\n",
              "    .colab-df-buttons div {\n",
              "      margin-bottom: 4px;\n",
              "    }\n",
              "\n",
              "    [theme=dark] .colab-df-convert {\n",
              "      background-color: #3B4455;\n",
              "      fill: #D2E3FC;\n",
              "    }\n",
              "\n",
              "    [theme=dark] .colab-df-convert:hover {\n",
              "      background-color: #434B5C;\n",
              "      box-shadow: 0px 1px 3px 1px rgba(0, 0, 0, 0.15);\n",
              "      filter: drop-shadow(0px 1px 2px rgba(0, 0, 0, 0.3));\n",
              "      fill: #FFFFFF;\n",
              "    }\n",
              "  </style>\n",
              "\n",
              "    <script>\n",
              "      const buttonEl =\n",
              "        document.querySelector('#df-17999af8-63e9-42e6-92e0-468fe0dbb402 button.colab-df-convert');\n",
              "      buttonEl.style.display =\n",
              "        google.colab.kernel.accessAllowed ? 'block' : 'none';\n",
              "\n",
              "      async function convertToInteractive(key) {\n",
              "        const element = document.querySelector('#df-17999af8-63e9-42e6-92e0-468fe0dbb402');\n",
              "        const dataTable =\n",
              "          await google.colab.kernel.invokeFunction('convertToInteractive',\n",
              "                                                    [key], {});\n",
              "        if (!dataTable) return;\n",
              "\n",
              "        const docLinkHtml = 'Like what you see? Visit the ' +\n",
              "          '<a target=\"_blank\" href=https://colab.research.google.com/notebooks/data_table.ipynb>data table notebook</a>'\n",
              "          + ' to learn more about interactive tables.';\n",
              "        element.innerHTML = '';\n",
              "        dataTable['output_type'] = 'display_data';\n",
              "        await google.colab.output.renderOutput(dataTable, element);\n",
              "        const docLink = document.createElement('div');\n",
              "        docLink.innerHTML = docLinkHtml;\n",
              "        element.appendChild(docLink);\n",
              "      }\n",
              "    </script>\n",
              "  </div>\n",
              "\n",
              "\n",
              "<div id=\"df-76655a6f-2968-4ef5-b3f8-972abca41232\">\n",
              "  <button class=\"colab-df-quickchart\" onclick=\"quickchart('df-76655a6f-2968-4ef5-b3f8-972abca41232')\"\n",
              "            title=\"Suggest charts\"\n",
              "            style=\"display:none;\">\n",
              "\n",
              "<svg xmlns=\"http://www.w3.org/2000/svg\" height=\"24px\"viewBox=\"0 0 24 24\"\n",
              "     width=\"24px\">\n",
              "    <g>\n",
              "        <path d=\"M19 3H5c-1.1 0-2 .9-2 2v14c0 1.1.9 2 2 2h14c1.1 0 2-.9 2-2V5c0-1.1-.9-2-2-2zM9 17H7v-7h2v7zm4 0h-2V7h2v10zm4 0h-2v-4h2v4z\"/>\n",
              "    </g>\n",
              "</svg>\n",
              "  </button>\n",
              "\n",
              "<style>\n",
              "  .colab-df-quickchart {\n",
              "      --bg-color: #E8F0FE;\n",
              "      --fill-color: #1967D2;\n",
              "      --hover-bg-color: #E2EBFA;\n",
              "      --hover-fill-color: #174EA6;\n",
              "      --disabled-fill-color: #AAA;\n",
              "      --disabled-bg-color: #DDD;\n",
              "  }\n",
              "\n",
              "  [theme=dark] .colab-df-quickchart {\n",
              "      --bg-color: #3B4455;\n",
              "      --fill-color: #D2E3FC;\n",
              "      --hover-bg-color: #434B5C;\n",
              "      --hover-fill-color: #FFFFFF;\n",
              "      --disabled-bg-color: #3B4455;\n",
              "      --disabled-fill-color: #666;\n",
              "  }\n",
              "\n",
              "  .colab-df-quickchart {\n",
              "    background-color: var(--bg-color);\n",
              "    border: none;\n",
              "    border-radius: 50%;\n",
              "    cursor: pointer;\n",
              "    display: none;\n",
              "    fill: var(--fill-color);\n",
              "    height: 32px;\n",
              "    padding: 0;\n",
              "    width: 32px;\n",
              "  }\n",
              "\n",
              "  .colab-df-quickchart:hover {\n",
              "    background-color: var(--hover-bg-color);\n",
              "    box-shadow: 0 1px 2px rgba(60, 64, 67, 0.3), 0 1px 3px 1px rgba(60, 64, 67, 0.15);\n",
              "    fill: var(--button-hover-fill-color);\n",
              "  }\n",
              "\n",
              "  .colab-df-quickchart-complete:disabled,\n",
              "  .colab-df-quickchart-complete:disabled:hover {\n",
              "    background-color: var(--disabled-bg-color);\n",
              "    fill: var(--disabled-fill-color);\n",
              "    box-shadow: none;\n",
              "  }\n",
              "\n",
              "  .colab-df-spinner {\n",
              "    border: 2px solid var(--fill-color);\n",
              "    border-color: transparent;\n",
              "    border-bottom-color: var(--fill-color);\n",
              "    animation:\n",
              "      spin 1s steps(1) infinite;\n",
              "  }\n",
              "\n",
              "  @keyframes spin {\n",
              "    0% {\n",
              "      border-color: transparent;\n",
              "      border-bottom-color: var(--fill-color);\n",
              "      border-left-color: var(--fill-color);\n",
              "    }\n",
              "    20% {\n",
              "      border-color: transparent;\n",
              "      border-left-color: var(--fill-color);\n",
              "      border-top-color: var(--fill-color);\n",
              "    }\n",
              "    30% {\n",
              "      border-color: transparent;\n",
              "      border-left-color: var(--fill-color);\n",
              "      border-top-color: var(--fill-color);\n",
              "      border-right-color: var(--fill-color);\n",
              "    }\n",
              "    40% {\n",
              "      border-color: transparent;\n",
              "      border-right-color: var(--fill-color);\n",
              "      border-top-color: var(--fill-color);\n",
              "    }\n",
              "    60% {\n",
              "      border-color: transparent;\n",
              "      border-right-color: var(--fill-color);\n",
              "    }\n",
              "    80% {\n",
              "      border-color: transparent;\n",
              "      border-right-color: var(--fill-color);\n",
              "      border-bottom-color: var(--fill-color);\n",
              "    }\n",
              "    90% {\n",
              "      border-color: transparent;\n",
              "      border-bottom-color: var(--fill-color);\n",
              "    }\n",
              "  }\n",
              "</style>\n",
              "\n",
              "  <script>\n",
              "    async function quickchart(key) {\n",
              "      const quickchartButtonEl =\n",
              "        document.querySelector('#' + key + ' button');\n",
              "      quickchartButtonEl.disabled = true;  // To prevent multiple clicks.\n",
              "      quickchartButtonEl.classList.add('colab-df-spinner');\n",
              "      try {\n",
              "        const charts = await google.colab.kernel.invokeFunction(\n",
              "            'suggestCharts', [key], {});\n",
              "      } catch (error) {\n",
              "        console.error('Error during call to suggestCharts:', error);\n",
              "      }\n",
              "      quickchartButtonEl.classList.remove('colab-df-spinner');\n",
              "      quickchartButtonEl.classList.add('colab-df-quickchart-complete');\n",
              "    }\n",
              "    (() => {\n",
              "      let quickchartButtonEl =\n",
              "        document.querySelector('#df-76655a6f-2968-4ef5-b3f8-972abca41232 button');\n",
              "      quickchartButtonEl.style.display =\n",
              "        google.colab.kernel.accessAllowed ? 'block' : 'none';\n",
              "    })();\n",
              "  </script>\n",
              "</div>\n",
              "\n",
              "  <div id=\"id_eb6fe4de-8178-47f3-9744-b04fb0530705\">\n",
              "    <style>\n",
              "      .colab-df-generate {\n",
              "        background-color: #E8F0FE;\n",
              "        border: none;\n",
              "        border-radius: 50%;\n",
              "        cursor: pointer;\n",
              "        display: none;\n",
              "        fill: #1967D2;\n",
              "        height: 32px;\n",
              "        padding: 0 0 0 0;\n",
              "        width: 32px;\n",
              "      }\n",
              "\n",
              "      .colab-df-generate:hover {\n",
              "        background-color: #E2EBFA;\n",
              "        box-shadow: 0px 1px 2px rgba(60, 64, 67, 0.3), 0px 1px 3px 1px rgba(60, 64, 67, 0.15);\n",
              "        fill: #174EA6;\n",
              "      }\n",
              "\n",
              "      [theme=dark] .colab-df-generate {\n",
              "        background-color: #3B4455;\n",
              "        fill: #D2E3FC;\n",
              "      }\n",
              "\n",
              "      [theme=dark] .colab-df-generate:hover {\n",
              "        background-color: #434B5C;\n",
              "        box-shadow: 0px 1px 3px 1px rgba(0, 0, 0, 0.15);\n",
              "        filter: drop-shadow(0px 1px 2px rgba(0, 0, 0, 0.3));\n",
              "        fill: #FFFFFF;\n",
              "      }\n",
              "    </style>\n",
              "    <button class=\"colab-df-generate\" onclick=\"generateWithVariable('unseen')\"\n",
              "            title=\"Generate code using this dataframe.\"\n",
              "            style=\"display:none;\">\n",
              "\n",
              "  <svg xmlns=\"http://www.w3.org/2000/svg\" height=\"24px\"viewBox=\"0 0 24 24\"\n",
              "       width=\"24px\">\n",
              "    <path d=\"M7,19H8.4L18.45,9,17,7.55,7,17.6ZM5,21V16.75L18.45,3.32a2,2,0,0,1,2.83,0l1.4,1.43a1.91,1.91,0,0,1,.58,1.4,1.91,1.91,0,0,1-.58,1.4L9.25,21ZM18.45,9,17,7.55Zm-12,3A5.31,5.31,0,0,0,4.9,8.1,5.31,5.31,0,0,0,1,6.5,5.31,5.31,0,0,0,4.9,4.9,5.31,5.31,0,0,0,6.5,1,5.31,5.31,0,0,0,8.1,4.9,5.31,5.31,0,0,0,12,6.5,5.46,5.46,0,0,0,6.5,12Z\"/>\n",
              "  </svg>\n",
              "    </button>\n",
              "    <script>\n",
              "      (() => {\n",
              "      const buttonEl =\n",
              "        document.querySelector('#id_eb6fe4de-8178-47f3-9744-b04fb0530705 button.colab-df-generate');\n",
              "      buttonEl.style.display =\n",
              "        google.colab.kernel.accessAllowed ? 'block' : 'none';\n",
              "\n",
              "      buttonEl.onclick = () => {\n",
              "        google.colab.notebook.generateWithVariable('unseen');\n",
              "      }\n",
              "      })();\n",
              "    </script>\n",
              "  </div>\n",
              "\n",
              "    </div>\n",
              "  </div>\n"
            ],
            "application/vnd.google.colaboratory.intrinsic+json": {
              "type": "dataframe",
              "variable_name": "unseen",
              "summary": "{\n  \"name\": \"unseen\",\n  \"rows\": 14,\n  \"fields\": [\n    {\n      \"column\": \"AGE\",\n      \"properties\": {\n        \"dtype\": \"date\",\n        \"min\": 24,\n        \"max\": 74,\n        \"num_unique_values\": 12,\n        \"samples\": [\n          45,\n          67,\n          57\n        ],\n        \"semantic_type\": \"\",\n        \"description\": \"\"\n      }\n    },\n    {\n      \"column\": \"SEX\",\n      \"properties\": {\n        \"dtype\": \"category\",\n        \"num_unique_values\": 2,\n        \"samples\": [\n          \"F\",\n          \"M\"\n        ],\n        \"semantic_type\": \"\",\n        \"description\": \"\"\n      }\n    },\n    {\n      \"column\": \"BP\",\n      \"properties\": {\n        \"dtype\": \"category\",\n        \"num_unique_values\": 3,\n        \"samples\": [\n          \"LOW\",\n          \"NORMAL\"\n        ],\n        \"semantic_type\": \"\",\n        \"description\": \"\"\n      }\n    },\n    {\n      \"column\": \"CHOLES\",\n      \"properties\": {\n        \"dtype\": \"category\",\n        \"num_unique_values\": 2,\n        \"samples\": [\n          \"HIGH\",\n          \"NORMAL\"\n        ],\n        \"semantic_type\": \"\",\n        \"description\": \"\"\n      }\n    },\n    {\n      \"column\": \"DRUG\",\n      \"properties\": {\n        \"dtype\": \"category\",\n        \"num_unique_values\": 5,\n        \"samples\": [\n          \"drugB\",\n          \"drugC\"\n        ],\n        \"semantic_type\": \"\",\n        \"description\": \"\"\n      }\n    },\n    {\n      \"column\": \"na2k\",\n      \"properties\": {\n        \"dtype\": \"category\",\n        \"num_unique_values\": 4,\n        \"samples\": [\n          \"Low\",\n          \"High\"\n        ],\n        \"semantic_type\": \"\",\n        \"description\": \"\"\n      }\n    }\n  ]\n}"
            }
          },
          "metadata": {},
          "execution_count": 30
        }
      ]
    },
    {
      "cell_type": "markdown",
      "source": [
        "End of Task."
      ],
      "metadata": {
        "id": "Q1Yh1j96J7qK"
      }
    }
  ]
}